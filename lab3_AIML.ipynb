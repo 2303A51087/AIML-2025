{
  "nbformat": 4,
  "nbformat_minor": 0,
  "metadata": {
    "colab": {
      "provenance": [],
      "authorship_tag": "ABX9TyOIqpdGfLH9mjZnvQSXR/gV",
      "include_colab_link": true
    },
    "kernelspec": {
      "name": "python3",
      "display_name": "Python 3"
    },
    "language_info": {
      "name": "python"
    }
  },
  "cells": [
    {
      "cell_type": "markdown",
      "metadata": {
        "id": "view-in-github",
        "colab_type": "text"
      },
      "source": [
        "<a href=\"https://colab.research.google.com/github/2303A51087/AIML-2025/blob/main/lab3_AIML.ipynb\" target=\"_parent\"><img src=\"https://colab.research.google.com/assets/colab-badge.svg\" alt=\"Open In Colab\"/></a>"
      ]
    },
    {
      "cell_type": "code",
      "execution_count": null,
      "metadata": {
        "id": "Op21Lpb-XC0l"
      },
      "outputs": [],
      "source": [
        "from collections import namedtuple, Counter, defaultdict\n",
        "import random\n",
        "import math\n",
        "import functools\n",
        "cache  == functools.lru_cache(10**6)"
      ]
    },
    {
      "cell_type": "code",
      "source": [
        "class Game:\n",
        "  def actions (self , state ):\n",
        "      ##Return a collection of the allowable moves from this state\n",
        "      raise NotImplementedError\n",
        "\n",
        "  def result (self , state , move ):\n",
        "      ##Return the state that results from making a move from a state\n",
        "      raise NotImplementedError\n",
        "\n",
        "  def is_terminal (self , state ):\n",
        "      \"\"\"Return True if this is a final state for the game.\"\"\"\n",
        "      return not self. actions (state)\n",
        "\n",
        "  def utility (self , state , player ):\n",
        "      \"\"\"Return the value of this final state to player.\"\"\"\n",
        "      raise NotImplementedError\n",
        "\n",
        "\n"
      ],
      "metadata": {
        "id": "eHys29G3XY7v"
      },
      "execution_count": 13,
      "outputs": []
    },
    {
      "cell_type": "markdown",
      "source": [],
      "metadata": {
        "id": "7JOsNDWibUk9"
      }
    }
  ]
}