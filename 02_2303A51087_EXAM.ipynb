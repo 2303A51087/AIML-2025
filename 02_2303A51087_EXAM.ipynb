{
  "nbformat": 4,
  "nbformat_minor": 0,
  "metadata": {
    "colab": {
      "provenance": [],
      "include_colab_link": true
    },
    "kernelspec": {
      "name": "python3",
      "display_name": "Python 3"
    },
    "language_info": {
      "name": "python"
    }
  },
  "cells": [
    {
      "cell_type": "markdown",
      "metadata": {
        "id": "view-in-github",
        "colab_type": "text"
      },
      "source": [
        "<a href=\"https://colab.research.google.com/github/2303A51087/AIML-2025/blob/main/02_2303A51087_EXAM.ipynb\" target=\"_parent\"><img src=\"https://colab.research.google.com/assets/colab-badge.svg\" alt=\"Open In Colab\"/></a>"
      ]
    },
    {
      "cell_type": "markdown",
      "source": [
        "G.Abhiram\n",
        "\n",
        "2303A51087\n",
        "\n",
        "batch-02\n",
        "\n",
        "dataset-National Poll on Health Aging\n"
      ],
      "metadata": {
        "id": "pRYxgIW4BH2o"
      }
    },
    {
      "cell_type": "markdown",
      "source": [
        "prediction of National Poll on Health Aging\n",
        "\n",
        "1.Identify the top 5 reasons for health Aging?\n",
        "\n",
        "2.Identify the community which has highest aging issues?\n",
        "\n",
        "3.Identify the gender which has the most aging and least aging issues?\n",
        "\n",
        "4.Does age, employment and mental stress contribute to health aging?\n",
        "\n",
        "5.Name the category which visited most Number of Doctors?"
      ],
      "metadata": {
        "id": "gCA_BcPFCO54"
      }
    },
    {
      "cell_type": "markdown",
      "source": [],
      "metadata": {
        "id": "WlAfGwzmEnn_"
      }
    },
    {
      "cell_type": "code",
      "source": [
        "pip install ucimlrepo"
      ],
      "metadata": {
        "id": "gBKchu6OPrU3",
        "colab": {
          "base_uri": "https://localhost:8080/"
        },
        "outputId": "7daa29eb-2f39-4a37-87b4-d069b0162030"
      },
      "execution_count": null,
      "outputs": [
        {
          "output_type": "stream",
          "name": "stdout",
          "text": [
            "Requirement already satisfied: ucimlrepo in /usr/local/lib/python3.10/dist-packages (0.0.7)\n",
            "Requirement already satisfied: pandas>=1.0.0 in /usr/local/lib/python3.10/dist-packages (from ucimlrepo) (2.2.2)\n",
            "Requirement already satisfied: certifi>=2020.12.5 in /usr/local/lib/python3.10/dist-packages (from ucimlrepo) (2024.8.30)\n",
            "Requirement already satisfied: numpy>=1.22.4 in /usr/local/lib/python3.10/dist-packages (from pandas>=1.0.0->ucimlrepo) (1.26.4)\n",
            "Requirement already satisfied: python-dateutil>=2.8.2 in /usr/local/lib/python3.10/dist-packages (from pandas>=1.0.0->ucimlrepo) (2.8.2)\n",
            "Requirement already satisfied: pytz>=2020.1 in /usr/local/lib/python3.10/dist-packages (from pandas>=1.0.0->ucimlrepo) (2024.2)\n",
            "Requirement already satisfied: tzdata>=2022.7 in /usr/local/lib/python3.10/dist-packages (from pandas>=1.0.0->ucimlrepo) (2024.2)\n",
            "Requirement already satisfied: six>=1.5 in /usr/local/lib/python3.10/dist-packages (from python-dateutil>=2.8.2->pandas>=1.0.0->ucimlrepo) (1.16.0)\n"
          ]
        }
      ]
    },
    {
      "cell_type": "code",
      "source": [
        "pip install pandas scikit-learn aiml\n"
      ],
      "metadata": {
        "colab": {
          "base_uri": "https://localhost:8080/"
        },
        "id": "Dyjo0ef0Nq2n",
        "outputId": "a3a98197-2305-420e-8dca-d7fec6632cf0"
      },
      "execution_count": null,
      "outputs": [
        {
          "output_type": "stream",
          "name": "stdout",
          "text": [
            "Requirement already satisfied: pandas in /usr/local/lib/python3.10/dist-packages (2.2.2)\n",
            "Requirement already satisfied: scikit-learn in /usr/local/lib/python3.10/dist-packages (1.5.2)\n",
            "Requirement already satisfied: aiml in /usr/local/lib/python3.10/dist-packages (0.9.2)\n",
            "Requirement already satisfied: numpy>=1.22.4 in /usr/local/lib/python3.10/dist-packages (from pandas) (1.26.4)\n",
            "Requirement already satisfied: python-dateutil>=2.8.2 in /usr/local/lib/python3.10/dist-packages (from pandas) (2.8.2)\n",
            "Requirement already satisfied: pytz>=2020.1 in /usr/local/lib/python3.10/dist-packages (from pandas) (2024.2)\n",
            "Requirement already satisfied: tzdata>=2022.7 in /usr/local/lib/python3.10/dist-packages (from pandas) (2024.2)\n",
            "Requirement already satisfied: scipy>=1.6.0 in /usr/local/lib/python3.10/dist-packages (from scikit-learn) (1.13.1)\n",
            "Requirement already satisfied: joblib>=1.2.0 in /usr/local/lib/python3.10/dist-packages (from scikit-learn) (1.4.2)\n",
            "Requirement already satisfied: threadpoolctl>=3.1.0 in /usr/local/lib/python3.10/dist-packages (from scikit-learn) (3.5.0)\n",
            "Requirement already satisfied: setuptools in /usr/local/lib/python3.10/dist-packages (from aiml) (75.1.0)\n",
            "Requirement already satisfied: six>=1.5 in /usr/local/lib/python3.10/dist-packages (from python-dateutil>=2.8.2->pandas) (1.16.0)\n"
          ]
        }
      ]
    },
    {
      "cell_type": "code",
      "source": [
        "from ucimlrepo import fetch_ucirepo\n",
        "\n",
        "# Fetch the dataset by its ID\n",
        "national_poll_on_healthy_aging_npha = fetch_ucirepo(id=936)\n",
        "\n",
        "# Data (features and targets)\n",
        "X = national_poll_on_healthy_aging_npha.data.features\n",
        "y = national_poll_on_healthy_aging_npha.data.targets\n",
        "\n",
        "# Metadata and variable information\n",
        "print(national_poll_on_healthy_aging_npha.metadata)\n",
        "print(national_poll_on_healthy_aging_npha.variables)\n",
        "\n",
        "# Display the first few rows of features (X) and target (y)\n",
        "print(X.head())\n",
        "print(y.head())\n"
      ],
      "metadata": {
        "colab": {
          "base_uri": "https://localhost:8080/"
        },
        "collapsed": true,
        "id": "vvs_02QzNsw_",
        "outputId": "8773c293-65e1-406b-c6d1-2273c5d25c75"
      },
      "execution_count": null,
      "outputs": [
        {
          "output_type": "stream",
          "name": "stdout",
          "text": [
            "{'uci_id': 936, 'name': 'National Poll on Healthy Aging (NPHA)', 'repository_url': 'https://archive.ics.uci.edu/dataset/936/national+poll+on+healthy+aging+(npha)', 'data_url': 'https://archive.ics.uci.edu/static/public/936/data.csv', 'abstract': 'This is a subset of the NPHA dataset filtered down to develop and validate machine learning algorithms for predicting the number of doctors a survey respondent sees in a year. This dataset’s records represent seniors who responded to the NPHA survey.\\n', 'area': 'Health and Medicine', 'tasks': ['Classification'], 'characteristics': ['Tabular'], 'num_instances': 714, 'num_features': 14, 'feature_types': ['Categorical'], 'demographics': ['Age', 'Race', 'Gender'], 'target_col': ['Number_of_Doctors_Visited'], 'index_col': None, 'has_missing_values': 'no', 'missing_values_symbol': None, 'year_of_dataset_creation': 2017, 'last_updated': 'Mon Dec 11 2023', 'dataset_doi': 'https://doi.org/10.3886/ICPSR37305.v1', 'creators': [], 'intro_paper': {'ID': 352, 'type': 'NATIVE', 'title': 'National Poll on Healthy Aging (NPHA)', 'authors': 'Malani, Preeti N., Kullgren, Jeffrey, and Solway, Erica', 'venue': 'Inter-university Consortium for Political and Social Research', 'year': 2017, 'journal': None, 'DOI': None, 'URL': 'https://doi.org/10.3886/ICPSR37305.v1', 'sha': None, 'corpus': None, 'arxiv': None, 'mag': None, 'acl': None, 'pmid': None, 'pmcid': None}, 'additional_info': {'summary': None, 'purpose': 'The National Poll on Healthy Aging dataset was created to gather insights on the health, healthcare, and health policy issues affecting Americans aged 50 and older. By focusing on the perspectives of older adults and their caregivers, the University of Michigan aimed to inform the public, healthcare providers, policymakers, and advocates about the various aspects of aging. This includes topics like health insurance, household composition, sleep issues, dental care, prescription medications, and caregiving, thereby providing a comprehensive understanding of the health-related needs and concerns of the older population.', 'funded_by': \"The dataset was funded by AARP and Michigan Medicine, the University of Michigan's academic medical centre.\", 'instances_represent': 'Each row represents a survey respondent.\\n', 'recommended_data_splits': None, 'sensitive_data': 'Yes. There is information about race/ethnicity, gender, age.', 'preprocessing_description': 'For this subset of the original NPHA dataset we chose 14 features related to health and sleep to use for the prediction task. We then removed all survey respondents with missing responses for any of the chosen features.', 'variable_info': None, 'citation': 'Malani, Preeti N., Kullgren, Jeffrey, and Solway, Erica. National Poll on Healthy Aging (NPHA), [United States], April 2017. Inter-university Consortium for Political and Social Research [distributor], 2019-05-29. https://doi.org/10.3886/ICPSR37305.v1'}}\n",
            "                                          name     role         type  \\\n",
            "0                    Number_of_Doctors_Visited   Target  Categorical   \n",
            "1                                          Age  Feature  Categorical   \n",
            "2                              Physical_Health  Feature  Categorical   \n",
            "3                                Mental_Health  Feature  Categorical   \n",
            "4                                Dental_Health  Feature  Categorical   \n",
            "5                                   Employment  Feature  Categorical   \n",
            "6           Stress_Keeps_Patient_from_Sleeping  Feature  Categorical   \n",
            "7       Medication_Keeps_Patient_from_Sleeping  Feature  Categorical   \n",
            "8             Pain_Keeps_Patient_from_Sleeping  Feature  Categorical   \n",
            "9   Bathroom_Needs_Keeps_Patient_from_Sleeping  Feature  Categorical   \n",
            "10          Uknown_Keeps_Patient_from_Sleeping  Feature  Categorical   \n",
            "11                            Trouble_Sleeping  Feature  Categorical   \n",
            "12               Prescription_Sleep_Medication  Feature  Categorical   \n",
            "13                                        Race  Feature  Categorical   \n",
            "14                                      Gender  Feature  Categorical   \n",
            "\n",
            "   demographic                                        description units  \\\n",
            "0         None  The total count of different doctors the patie...  None   \n",
            "1          Age  The patient's age group = {\\n 1: 50-64\\n 2: 65...  None   \n",
            "2         None  A self-assessment of the patient's physical we...  None   \n",
            "3         None  A self-evaluation of the patient's mental or p...  None   \n",
            "4         None  A self-assessment of the patient's oral or den...  None   \n",
            "5         None  The patient's employment status or work-relate...  None   \n",
            "6         None  Whether stress affects the patient's ability t...  None   \n",
            "7         None  Whether medication impacts the patient's sleep...  None   \n",
            "8         None  Whether physical pain disturbs the patient's s...  None   \n",
            "9         None  Whether the need to use the bathroom affects t...  None   \n",
            "10        None  Unidentified factors affecting the patient's s...  None   \n",
            "11        None  General issues or difficulties the patient fac...  None   \n",
            "12        None  Information about any sleep medication prescri...  None   \n",
            "13        Race  The patient's racial or ethnic background = {\\...  None   \n",
            "14      Gender  The gender identity of the patient = {\\n -2: N...  None   \n",
            "\n",
            "   missing_values  \n",
            "0              no  \n",
            "1              no  \n",
            "2              no  \n",
            "3              no  \n",
            "4              no  \n",
            "5              no  \n",
            "6              no  \n",
            "7              no  \n",
            "8              no  \n",
            "9              no  \n",
            "10             no  \n",
            "11             no  \n",
            "12             no  \n",
            "13             no  \n",
            "14             no  \n",
            "   Age  Physical_Health  Mental_Health  Dental_Health  Employment  \\\n",
            "0    2                4              3              3           3   \n",
            "1    2                4              2              3           3   \n",
            "2    2                3              2              3           3   \n",
            "3    2                3              2              3           3   \n",
            "4    2                3              3              3           3   \n",
            "\n",
            "   Stress_Keeps_Patient_from_Sleeping  Medication_Keeps_Patient_from_Sleeping  \\\n",
            "0                                   0                                       0   \n",
            "1                                   1                                       0   \n",
            "2                                   0                                       0   \n",
            "3                                   0                                       0   \n",
            "4                                   1                                       0   \n",
            "\n",
            "   Pain_Keeps_Patient_from_Sleeping  \\\n",
            "0                                 0   \n",
            "1                                 0   \n",
            "2                                 0   \n",
            "3                                 0   \n",
            "4                                 0   \n",
            "\n",
            "   Bathroom_Needs_Keeps_Patient_from_Sleeping  \\\n",
            "0                                           0   \n",
            "1                                           1   \n",
            "2                                           0   \n",
            "3                                           1   \n",
            "4                                           0   \n",
            "\n",
            "   Uknown_Keeps_Patient_from_Sleeping  Trouble_Sleeping  \\\n",
            "0                                   1                 2   \n",
            "1                                   0                 3   \n",
            "2                                   1                 3   \n",
            "3                                   0                 3   \n",
            "4                                   0                 2   \n",
            "\n",
            "   Prescription_Sleep_Medication  Race  Gender  \n",
            "0                              3     1       2  \n",
            "1                              3     1       1  \n",
            "2                              3     4       1  \n",
            "3                              3     4       2  \n",
            "4                              3     1       2  \n",
            "   Number_of_Doctors_Visited\n",
            "0                          3\n",
            "1                          2\n",
            "2                          3\n",
            "3                          1\n",
            "4                          3\n"
          ]
        }
      ]
    },
    {
      "cell_type": "code",
      "source": [
        "# Display the column names and the first few rows of the features (X)\n",
        "print(X.columns)\n",
        "print(X.head())\n"
      ],
      "metadata": {
        "colab": {
          "base_uri": "https://localhost:8080/"
        },
        "id": "Ax7gtTJ0O0Z3",
        "outputId": "58d12a2b-f1ae-4830-ab6f-b4402f0c31d2"
      },
      "execution_count": null,
      "outputs": [
        {
          "output_type": "stream",
          "name": "stdout",
          "text": [
            "Index(['Age', 'Physical_Health', 'Mental_Health', 'Dental_Health',\n",
            "       'Employment', 'Stress_Keeps_Patient_from_Sleeping',\n",
            "       'Medication_Keeps_Patient_from_Sleeping',\n",
            "       'Pain_Keeps_Patient_from_Sleeping',\n",
            "       'Bathroom_Needs_Keeps_Patient_from_Sleeping',\n",
            "       'Uknown_Keeps_Patient_from_Sleeping', 'Trouble_Sleeping',\n",
            "       'Prescription_Sleep_Medication', 'Race', 'Gender'],\n",
            "      dtype='object')\n",
            "   Age  Physical_Health  Mental_Health  Dental_Health  Employment  \\\n",
            "0    2                4              3              3           3   \n",
            "1    2                4              2              3           3   \n",
            "2    2                3              2              3           3   \n",
            "3    2                3              2              3           3   \n",
            "4    2                3              3              3           3   \n",
            "\n",
            "   Stress_Keeps_Patient_from_Sleeping  Medication_Keeps_Patient_from_Sleeping  \\\n",
            "0                                   0                                       0   \n",
            "1                                   1                                       0   \n",
            "2                                   0                                       0   \n",
            "3                                   0                                       0   \n",
            "4                                   1                                       0   \n",
            "\n",
            "   Pain_Keeps_Patient_from_Sleeping  \\\n",
            "0                                 0   \n",
            "1                                 0   \n",
            "2                                 0   \n",
            "3                                 0   \n",
            "4                                 0   \n",
            "\n",
            "   Bathroom_Needs_Keeps_Patient_from_Sleeping  \\\n",
            "0                                           0   \n",
            "1                                           1   \n",
            "2                                           0   \n",
            "3                                           1   \n",
            "4                                           0   \n",
            "\n",
            "   Uknown_Keeps_Patient_from_Sleeping  Trouble_Sleeping  \\\n",
            "0                                   1                 2   \n",
            "1                                   0                 3   \n",
            "2                                   1                 3   \n",
            "3                                   0                 3   \n",
            "4                                   0                 2   \n",
            "\n",
            "   Prescription_Sleep_Medication  Race  Gender  \n",
            "0                              3     1       2  \n",
            "1                              3     1       1  \n",
            "2                              3     4       1  \n",
            "3                              3     4       2  \n",
            "4                              3     1       2  \n"
          ]
        }
      ]
    },
    {
      "cell_type": "code",
      "source": [
        "# Let's assume 'health_conditions' is the column related to reasons for aging\n",
        "if 'health_conditions' in X.columns:\n",
        "    top_5_reasons = X['/content/NPHA-doctor-visits.csv'].value_counts().head(5)\n",
        "    print(\"Top 5 reasons for health aging:\")\n",
        "    print(top_5_reasons)\n",
        "else:\n",
        "    print(\"Column 'health_conditions' not found in the dataset.\")\n"
      ],
      "metadata": {
        "colab": {
          "base_uri": "https://localhost:8080/"
        },
        "id": "HejO5ZDpQkw_",
        "outputId": "f973b594-e57a-4e62-b374-def2759ae2fa"
      },
      "execution_count": null,
      "outputs": [
        {
          "output_type": "stream",
          "name": "stdout",
          "text": [
            "Column 'health_conditions' not found in the dataset.\n"
          ]
        }
      ]
    },
    {
      "cell_type": "code",
      "source": [
        "# Inspect the target variable (y)\n",
        "print(y.head())\n"
      ],
      "metadata": {
        "colab": {
          "base_uri": "https://localhost:8080/"
        },
        "id": "fJv0RHndQo54",
        "outputId": "3bd0b756-75ec-4e20-8e0c-bf37fdb725a1"
      },
      "execution_count": null,
      "outputs": [
        {
          "output_type": "stream",
          "name": "stdout",
          "text": [
            "   Number_of_Doctors_Visited\n",
            "0                          3\n",
            "1                          2\n",
            "2                          3\n",
            "3                          1\n",
            "4                          3\n"
          ]
        }
      ]
    },
    {
      "cell_type": "code",
      "source": [
        "# Display the first few rows to understand the structure of the data\n",
        "print(X.head())\n",
        "\n",
        "# Let's inspect the 'reasons_for_aging' column (if it exists)\n",
        "# Assuming that there's a column that lists reasons or health conditions related to aging\n",
        "# Replace 'actual_column_name' with the actual name of the column in your dataset\n",
        "column_name = 'actual_column_name'  # Replace with the correct column name\n",
        "\n",
        "# Check if the column exists in the DataFrame before accessing it\n",
        "if column_name in X.columns:\n",
        "    top_5_reasons = X[column_name].value_counts().head(5)\n",
        "    print(\"Top 5 reasons for health aging:\")\n",
        "    print(top_5_reasons)\n",
        "else:\n",
        "    print(f\"Column '{column_name}' not found in the dataset. Please check your column names.\")"
      ],
      "metadata": {
        "colab": {
          "base_uri": "https://localhost:8080/"
        },
        "id": "jOHNrrlEBa8b",
        "outputId": "f95c1e0d-a576-4df2-a507-d982e6a1dfca"
      },
      "execution_count": null,
      "outputs": [
        {
          "output_type": "stream",
          "name": "stdout",
          "text": [
            "   Age  Physical_Health  Mental_Health  Dental_Health  Employment  \\\n",
            "0    2                4              3              3           3   \n",
            "1    2                4              2              3           3   \n",
            "2    2                3              2              3           3   \n",
            "3    2                3              2              3           3   \n",
            "4    2                3              3              3           3   \n",
            "\n",
            "   Stress_Keeps_Patient_from_Sleeping  Medication_Keeps_Patient_from_Sleeping  \\\n",
            "0                                   0                                       0   \n",
            "1                                   1                                       0   \n",
            "2                                   0                                       0   \n",
            "3                                   0                                       0   \n",
            "4                                   1                                       0   \n",
            "\n",
            "   Pain_Keeps_Patient_from_Sleeping  \\\n",
            "0                                 0   \n",
            "1                                 0   \n",
            "2                                 0   \n",
            "3                                 0   \n",
            "4                                 0   \n",
            "\n",
            "   Bathroom_Needs_Keeps_Patient_from_Sleeping  \\\n",
            "0                                           0   \n",
            "1                                           1   \n",
            "2                                           0   \n",
            "3                                           1   \n",
            "4                                           0   \n",
            "\n",
            "   Uknown_Keeps_Patient_from_Sleeping  Trouble_Sleeping  \\\n",
            "0                                   1                 2   \n",
            "1                                   0                 3   \n",
            "2                                   1                 3   \n",
            "3                                   0                 3   \n",
            "4                                   0                 2   \n",
            "\n",
            "   Prescription_Sleep_Medication  Race  Gender  \n",
            "0                              3     1       2  \n",
            "1                              3     1       1  \n",
            "2                              3     4       1  \n",
            "3                              3     4       2  \n",
            "4                              3     1       2  \n",
            "Column 'actual_column_name' not found in the dataset. Please check your column names.\n"
          ]
        }
      ]
    },
    {
      "cell_type": "code",
      "source": [
        "# Assuming 'community' or a similar column is in X\n",
        "# Replace 'community' with the actual column name if it's different\n",
        "community_column = 'community'  # Replace with actual column name if needed\n",
        "\n",
        "# Check if the column exists in the DataFrame\n",
        "if community_column in X.columns:\n",
        "    community_aging_issues = X.groupby(community_column)['aging_issues'].sum().sort_values(ascending=False)\n",
        "    top_community = community_aging_issues.head(1)\n",
        "    print(f\"Community with the highest aging issues: {top_community}\")\n",
        "else:\n",
        "    print(f\"Column '{community_column}' not found in the dataset. Please check your column names.\")"
      ],
      "metadata": {
        "colab": {
          "base_uri": "https://localhost:8080/"
        },
        "id": "aDnA0riKBwIq",
        "outputId": "7989468d-3383-424a-aaba-93979a43bd0a"
      },
      "execution_count": null,
      "outputs": [
        {
          "output_type": "stream",
          "name": "stdout",
          "text": [
            "Column 'community' not found in the dataset. Please check your column names.\n"
          ]
        }
      ]
    },
    {
      "cell_type": "code",
      "source": [
        "# Display the first few rows to understand the structure of the data\n",
        "print(X.head())\n",
        "\n",
        "# Let's inspect the 'reasons_for_aging' column (if it exists)\n",
        "# Assuming that there's a column that lists reasons or health conditions related to aging\n",
        "top_5_reasons = X[\"/content/NPHA-doctor-visits.csv\"].value_counts().head(5)\n",
        "print(\"Top 5 reasons for health aging:\")\n",
        "print(top_5_reasons)\n"
      ],
      "metadata": {
        "colab": {
          "base_uri": "https://localhost:8080/",
          "height": 1000
        },
        "id": "Ae-YA5rEChaP",
        "outputId": "69f5bab5-eb15-4370-cef4-ee44f6e0bfb4"
      },
      "execution_count": null,
      "outputs": [
        {
          "output_type": "stream",
          "name": "stdout",
          "text": [
            "   Age  Physical_Health  Mental_Health  Dental_Health  Employment  \\\n",
            "0    2                4              3              3           3   \n",
            "1    2                4              2              3           3   \n",
            "2    2                3              2              3           3   \n",
            "3    2                3              2              3           3   \n",
            "4    2                3              3              3           3   \n",
            "\n",
            "   Stress_Keeps_Patient_from_Sleeping  Medication_Keeps_Patient_from_Sleeping  \\\n",
            "0                                   0                                       0   \n",
            "1                                   1                                       0   \n",
            "2                                   0                                       0   \n",
            "3                                   0                                       0   \n",
            "4                                   1                                       0   \n",
            "\n",
            "   Pain_Keeps_Patient_from_Sleeping  \\\n",
            "0                                 0   \n",
            "1                                 0   \n",
            "2                                 0   \n",
            "3                                 0   \n",
            "4                                 0   \n",
            "\n",
            "   Bathroom_Needs_Keeps_Patient_from_Sleeping  \\\n",
            "0                                           0   \n",
            "1                                           1   \n",
            "2                                           0   \n",
            "3                                           1   \n",
            "4                                           0   \n",
            "\n",
            "   Uknown_Keeps_Patient_from_Sleeping  Trouble_Sleeping  \\\n",
            "0                                   1                 2   \n",
            "1                                   0                 3   \n",
            "2                                   1                 3   \n",
            "3                                   0                 3   \n",
            "4                                   0                 2   \n",
            "\n",
            "   Prescription_Sleep_Medication  Race  Gender  \n",
            "0                              3     1       2  \n",
            "1                              3     1       1  \n",
            "2                              3     4       1  \n",
            "3                              3     4       2  \n",
            "4                              3     1       2  \n"
          ]
        },
        {
          "output_type": "error",
          "ename": "KeyError",
          "evalue": "'/content/NPHA-doctor-visits.csv'",
          "traceback": [
            "\u001b[0;31m---------------------------------------------------------------------------\u001b[0m",
            "\u001b[0;31mKeyError\u001b[0m                                  Traceback (most recent call last)",
            "\u001b[0;32m/usr/local/lib/python3.10/dist-packages/pandas/core/indexes/base.py\u001b[0m in \u001b[0;36mget_loc\u001b[0;34m(self, key)\u001b[0m\n\u001b[1;32m   3804\u001b[0m         \u001b[0;32mtry\u001b[0m\u001b[0;34m:\u001b[0m\u001b[0;34m\u001b[0m\u001b[0;34m\u001b[0m\u001b[0m\n\u001b[0;32m-> 3805\u001b[0;31m             \u001b[0;32mreturn\u001b[0m \u001b[0mself\u001b[0m\u001b[0;34m.\u001b[0m\u001b[0m_engine\u001b[0m\u001b[0;34m.\u001b[0m\u001b[0mget_loc\u001b[0m\u001b[0;34m(\u001b[0m\u001b[0mcasted_key\u001b[0m\u001b[0;34m)\u001b[0m\u001b[0;34m\u001b[0m\u001b[0;34m\u001b[0m\u001b[0m\n\u001b[0m\u001b[1;32m   3806\u001b[0m         \u001b[0;32mexcept\u001b[0m \u001b[0mKeyError\u001b[0m \u001b[0;32mas\u001b[0m \u001b[0merr\u001b[0m\u001b[0;34m:\u001b[0m\u001b[0;34m\u001b[0m\u001b[0;34m\u001b[0m\u001b[0m\n",
            "\u001b[0;32mindex.pyx\u001b[0m in \u001b[0;36mpandas._libs.index.IndexEngine.get_loc\u001b[0;34m()\u001b[0m\n",
            "\u001b[0;32mindex.pyx\u001b[0m in \u001b[0;36mpandas._libs.index.IndexEngine.get_loc\u001b[0;34m()\u001b[0m\n",
            "\u001b[0;32mpandas/_libs/hashtable_class_helper.pxi\u001b[0m in \u001b[0;36mpandas._libs.hashtable.PyObjectHashTable.get_item\u001b[0;34m()\u001b[0m\n",
            "\u001b[0;32mpandas/_libs/hashtable_class_helper.pxi\u001b[0m in \u001b[0;36mpandas._libs.hashtable.PyObjectHashTable.get_item\u001b[0;34m()\u001b[0m\n",
            "\u001b[0;31mKeyError\u001b[0m: '/content/NPHA-doctor-visits.csv'",
            "\nThe above exception was the direct cause of the following exception:\n",
            "\u001b[0;31mKeyError\u001b[0m                                  Traceback (most recent call last)",
            "\u001b[0;32m<ipython-input-48-bca1f15e039c>\u001b[0m in \u001b[0;36m<cell line: 6>\u001b[0;34m()\u001b[0m\n\u001b[1;32m      4\u001b[0m \u001b[0;31m# Let's inspect the 'reasons_for_aging' column (if it exists)\u001b[0m\u001b[0;34m\u001b[0m\u001b[0;34m\u001b[0m\u001b[0m\n\u001b[1;32m      5\u001b[0m \u001b[0;31m# Assuming that there's a column that lists reasons or health conditions related to aging\u001b[0m\u001b[0;34m\u001b[0m\u001b[0;34m\u001b[0m\u001b[0m\n\u001b[0;32m----> 6\u001b[0;31m \u001b[0mtop_5_reasons\u001b[0m \u001b[0;34m=\u001b[0m \u001b[0mX\u001b[0m\u001b[0;34m[\u001b[0m\u001b[0;34m\"/content/NPHA-doctor-visits.csv\"\u001b[0m\u001b[0;34m]\u001b[0m\u001b[0;34m.\u001b[0m\u001b[0mvalue_counts\u001b[0m\u001b[0;34m(\u001b[0m\u001b[0;34m)\u001b[0m\u001b[0;34m.\u001b[0m\u001b[0mhead\u001b[0m\u001b[0;34m(\u001b[0m\u001b[0;36m5\u001b[0m\u001b[0;34m)\u001b[0m\u001b[0;34m\u001b[0m\u001b[0;34m\u001b[0m\u001b[0m\n\u001b[0m\u001b[1;32m      7\u001b[0m \u001b[0mprint\u001b[0m\u001b[0;34m(\u001b[0m\u001b[0;34m\"Top 5 reasons for health aging:\"\u001b[0m\u001b[0;34m)\u001b[0m\u001b[0;34m\u001b[0m\u001b[0;34m\u001b[0m\u001b[0m\n\u001b[1;32m      8\u001b[0m \u001b[0mprint\u001b[0m\u001b[0;34m(\u001b[0m\u001b[0mtop_5_reasons\u001b[0m\u001b[0;34m)\u001b[0m\u001b[0;34m\u001b[0m\u001b[0;34m\u001b[0m\u001b[0m\n",
            "\u001b[0;32m/usr/local/lib/python3.10/dist-packages/pandas/core/frame.py\u001b[0m in \u001b[0;36m__getitem__\u001b[0;34m(self, key)\u001b[0m\n\u001b[1;32m   4100\u001b[0m             \u001b[0;32mif\u001b[0m \u001b[0mself\u001b[0m\u001b[0;34m.\u001b[0m\u001b[0mcolumns\u001b[0m\u001b[0;34m.\u001b[0m\u001b[0mnlevels\u001b[0m \u001b[0;34m>\u001b[0m \u001b[0;36m1\u001b[0m\u001b[0;34m:\u001b[0m\u001b[0;34m\u001b[0m\u001b[0;34m\u001b[0m\u001b[0m\n\u001b[1;32m   4101\u001b[0m                 \u001b[0;32mreturn\u001b[0m \u001b[0mself\u001b[0m\u001b[0;34m.\u001b[0m\u001b[0m_getitem_multilevel\u001b[0m\u001b[0;34m(\u001b[0m\u001b[0mkey\u001b[0m\u001b[0;34m)\u001b[0m\u001b[0;34m\u001b[0m\u001b[0;34m\u001b[0m\u001b[0m\n\u001b[0;32m-> 4102\u001b[0;31m             \u001b[0mindexer\u001b[0m \u001b[0;34m=\u001b[0m \u001b[0mself\u001b[0m\u001b[0;34m.\u001b[0m\u001b[0mcolumns\u001b[0m\u001b[0;34m.\u001b[0m\u001b[0mget_loc\u001b[0m\u001b[0;34m(\u001b[0m\u001b[0mkey\u001b[0m\u001b[0;34m)\u001b[0m\u001b[0;34m\u001b[0m\u001b[0;34m\u001b[0m\u001b[0m\n\u001b[0m\u001b[1;32m   4103\u001b[0m             \u001b[0;32mif\u001b[0m \u001b[0mis_integer\u001b[0m\u001b[0;34m(\u001b[0m\u001b[0mindexer\u001b[0m\u001b[0;34m)\u001b[0m\u001b[0;34m:\u001b[0m\u001b[0;34m\u001b[0m\u001b[0;34m\u001b[0m\u001b[0m\n\u001b[1;32m   4104\u001b[0m                 \u001b[0mindexer\u001b[0m \u001b[0;34m=\u001b[0m \u001b[0;34m[\u001b[0m\u001b[0mindexer\u001b[0m\u001b[0;34m]\u001b[0m\u001b[0;34m\u001b[0m\u001b[0;34m\u001b[0m\u001b[0m\n",
            "\u001b[0;32m/usr/local/lib/python3.10/dist-packages/pandas/core/indexes/base.py\u001b[0m in \u001b[0;36mget_loc\u001b[0;34m(self, key)\u001b[0m\n\u001b[1;32m   3810\u001b[0m             ):\n\u001b[1;32m   3811\u001b[0m                 \u001b[0;32mraise\u001b[0m \u001b[0mInvalidIndexError\u001b[0m\u001b[0;34m(\u001b[0m\u001b[0mkey\u001b[0m\u001b[0;34m)\u001b[0m\u001b[0;34m\u001b[0m\u001b[0;34m\u001b[0m\u001b[0m\n\u001b[0;32m-> 3812\u001b[0;31m             \u001b[0;32mraise\u001b[0m \u001b[0mKeyError\u001b[0m\u001b[0;34m(\u001b[0m\u001b[0mkey\u001b[0m\u001b[0;34m)\u001b[0m \u001b[0;32mfrom\u001b[0m \u001b[0merr\u001b[0m\u001b[0;34m\u001b[0m\u001b[0;34m\u001b[0m\u001b[0m\n\u001b[0m\u001b[1;32m   3813\u001b[0m         \u001b[0;32mexcept\u001b[0m \u001b[0mTypeError\u001b[0m\u001b[0;34m:\u001b[0m\u001b[0;34m\u001b[0m\u001b[0;34m\u001b[0m\u001b[0m\n\u001b[1;32m   3814\u001b[0m             \u001b[0;31m# If we have a listlike key, _check_indexing_error will raise\u001b[0m\u001b[0;34m\u001b[0m\u001b[0;34m\u001b[0m\u001b[0m\n",
            "\u001b[0;31mKeyError\u001b[0m: '/content/NPHA-doctor-visits.csv'"
          ]
        }
      ]
    },
    {
      "cell_type": "code",
      "source": [
        "# Assuming 'community' is a column in X\n",
        "community_aging_issues = X.groupby('community')['aging_issues'].sum().sort_values(ascending=False)\n",
        "top_community = community_aging_issues.head(1)\n",
        "print(f\"Community with the highest aging issues: {top_community}\")\n"
      ],
      "metadata": {
        "colab": {
          "base_uri": "https://localhost:8080/",
          "height": 389
        },
        "collapsed": true,
        "id": "kFTGn3QwN_XI",
        "outputId": "1527e0ec-ee9a-420a-d8d8-ce72bc8dda44"
      },
      "execution_count": null,
      "outputs": [
        {
          "output_type": "error",
          "ename": "KeyError",
          "evalue": "'community'",
          "traceback": [
            "\u001b[0;31m---------------------------------------------------------------------------\u001b[0m",
            "\u001b[0;31mKeyError\u001b[0m                                  Traceback (most recent call last)",
            "\u001b[0;32m<ipython-input-45-322be46e825d>\u001b[0m in \u001b[0;36m<cell line: 2>\u001b[0;34m()\u001b[0m\n\u001b[1;32m      1\u001b[0m \u001b[0;31m# Assuming 'community' is a column in X\u001b[0m\u001b[0;34m\u001b[0m\u001b[0;34m\u001b[0m\u001b[0m\n\u001b[0;32m----> 2\u001b[0;31m \u001b[0mcommunity_aging_issues\u001b[0m \u001b[0;34m=\u001b[0m \u001b[0mX\u001b[0m\u001b[0;34m.\u001b[0m\u001b[0mgroupby\u001b[0m\u001b[0;34m(\u001b[0m\u001b[0;34m'community'\u001b[0m\u001b[0;34m)\u001b[0m\u001b[0;34m[\u001b[0m\u001b[0;34m'aging_issues'\u001b[0m\u001b[0;34m]\u001b[0m\u001b[0;34m.\u001b[0m\u001b[0msum\u001b[0m\u001b[0;34m(\u001b[0m\u001b[0;34m)\u001b[0m\u001b[0;34m.\u001b[0m\u001b[0msort_values\u001b[0m\u001b[0;34m(\u001b[0m\u001b[0mascending\u001b[0m\u001b[0;34m=\u001b[0m\u001b[0;32mFalse\u001b[0m\u001b[0;34m)\u001b[0m\u001b[0;34m\u001b[0m\u001b[0;34m\u001b[0m\u001b[0m\n\u001b[0m\u001b[1;32m      3\u001b[0m \u001b[0mtop_community\u001b[0m \u001b[0;34m=\u001b[0m \u001b[0mcommunity_aging_issues\u001b[0m\u001b[0;34m.\u001b[0m\u001b[0mhead\u001b[0m\u001b[0;34m(\u001b[0m\u001b[0;36m1\u001b[0m\u001b[0;34m)\u001b[0m\u001b[0;34m\u001b[0m\u001b[0;34m\u001b[0m\u001b[0m\n\u001b[1;32m      4\u001b[0m \u001b[0mprint\u001b[0m\u001b[0;34m(\u001b[0m\u001b[0;34mf\"Community with the highest aging issues: {top_community}\"\u001b[0m\u001b[0;34m)\u001b[0m\u001b[0;34m\u001b[0m\u001b[0;34m\u001b[0m\u001b[0m\n",
            "\u001b[0;32m/usr/local/lib/python3.10/dist-packages/pandas/core/frame.py\u001b[0m in \u001b[0;36mgroupby\u001b[0;34m(self, by, axis, level, as_index, sort, group_keys, observed, dropna)\u001b[0m\n\u001b[1;32m   9181\u001b[0m             \u001b[0;32mraise\u001b[0m \u001b[0mTypeError\u001b[0m\u001b[0;34m(\u001b[0m\u001b[0;34m\"You have to supply one of 'by' and 'level'\"\u001b[0m\u001b[0;34m)\u001b[0m\u001b[0;34m\u001b[0m\u001b[0;34m\u001b[0m\u001b[0m\n\u001b[1;32m   9182\u001b[0m \u001b[0;34m\u001b[0m\u001b[0m\n\u001b[0;32m-> 9183\u001b[0;31m         return DataFrameGroupBy(\n\u001b[0m\u001b[1;32m   9184\u001b[0m             \u001b[0mobj\u001b[0m\u001b[0;34m=\u001b[0m\u001b[0mself\u001b[0m\u001b[0;34m,\u001b[0m\u001b[0;34m\u001b[0m\u001b[0;34m\u001b[0m\u001b[0m\n\u001b[1;32m   9185\u001b[0m             \u001b[0mkeys\u001b[0m\u001b[0;34m=\u001b[0m\u001b[0mby\u001b[0m\u001b[0;34m,\u001b[0m\u001b[0;34m\u001b[0m\u001b[0;34m\u001b[0m\u001b[0m\n",
            "\u001b[0;32m/usr/local/lib/python3.10/dist-packages/pandas/core/groupby/groupby.py\u001b[0m in \u001b[0;36m__init__\u001b[0;34m(self, obj, keys, axis, level, grouper, exclusions, selection, as_index, sort, group_keys, observed, dropna)\u001b[0m\n\u001b[1;32m   1327\u001b[0m \u001b[0;34m\u001b[0m\u001b[0m\n\u001b[1;32m   1328\u001b[0m         \u001b[0;32mif\u001b[0m \u001b[0mgrouper\u001b[0m \u001b[0;32mis\u001b[0m \u001b[0;32mNone\u001b[0m\u001b[0;34m:\u001b[0m\u001b[0;34m\u001b[0m\u001b[0;34m\u001b[0m\u001b[0m\n\u001b[0;32m-> 1329\u001b[0;31m             grouper, exclusions, obj = get_grouper(\n\u001b[0m\u001b[1;32m   1330\u001b[0m                 \u001b[0mobj\u001b[0m\u001b[0;34m,\u001b[0m\u001b[0;34m\u001b[0m\u001b[0;34m\u001b[0m\u001b[0m\n\u001b[1;32m   1331\u001b[0m                 \u001b[0mkeys\u001b[0m\u001b[0;34m,\u001b[0m\u001b[0;34m\u001b[0m\u001b[0;34m\u001b[0m\u001b[0m\n",
            "\u001b[0;32m/usr/local/lib/python3.10/dist-packages/pandas/core/groupby/grouper.py\u001b[0m in \u001b[0;36mget_grouper\u001b[0;34m(obj, key, axis, level, sort, observed, validate, dropna)\u001b[0m\n\u001b[1;32m   1041\u001b[0m                 \u001b[0min_axis\u001b[0m\u001b[0;34m,\u001b[0m \u001b[0mlevel\u001b[0m\u001b[0;34m,\u001b[0m \u001b[0mgpr\u001b[0m \u001b[0;34m=\u001b[0m \u001b[0;32mFalse\u001b[0m\u001b[0;34m,\u001b[0m \u001b[0mgpr\u001b[0m\u001b[0;34m,\u001b[0m \u001b[0;32mNone\u001b[0m\u001b[0;34m\u001b[0m\u001b[0;34m\u001b[0m\u001b[0m\n\u001b[1;32m   1042\u001b[0m             \u001b[0;32melse\u001b[0m\u001b[0;34m:\u001b[0m\u001b[0;34m\u001b[0m\u001b[0;34m\u001b[0m\u001b[0m\n\u001b[0;32m-> 1043\u001b[0;31m                 \u001b[0;32mraise\u001b[0m \u001b[0mKeyError\u001b[0m\u001b[0;34m(\u001b[0m\u001b[0mgpr\u001b[0m\u001b[0;34m)\u001b[0m\u001b[0;34m\u001b[0m\u001b[0;34m\u001b[0m\u001b[0m\n\u001b[0m\u001b[1;32m   1044\u001b[0m         \u001b[0;32melif\u001b[0m \u001b[0misinstance\u001b[0m\u001b[0;34m(\u001b[0m\u001b[0mgpr\u001b[0m\u001b[0;34m,\u001b[0m \u001b[0mGrouper\u001b[0m\u001b[0;34m)\u001b[0m \u001b[0;32mand\u001b[0m \u001b[0mgpr\u001b[0m\u001b[0;34m.\u001b[0m\u001b[0mkey\u001b[0m \u001b[0;32mis\u001b[0m \u001b[0;32mnot\u001b[0m \u001b[0;32mNone\u001b[0m\u001b[0;34m:\u001b[0m\u001b[0;34m\u001b[0m\u001b[0;34m\u001b[0m\u001b[0m\n\u001b[1;32m   1045\u001b[0m             \u001b[0;31m# Add key to exclusions\u001b[0m\u001b[0;34m\u001b[0m\u001b[0;34m\u001b[0m\u001b[0m\n",
            "\u001b[0;31mKeyError\u001b[0m: 'community'"
          ]
        }
      ]
    },
    {
      "cell_type": "code",
      "source": [
        "# Assuming 'gender' and 'aging_issues' are columns in X\n",
        "gender_aging_issues = X.groupby('gender')['aging_issues'].sum()\n",
        "most_aging_gender = gender_aging_issues.idxmax()\n",
        "least_aging_gender = gender_aging_issues.idxmin()\n",
        "\n",
        "print(f\"Gender with the most aging issues: {most_aging_gender}\")\n",
        "print(f\"Gender with the least aging issues: {least_aging_gender}\")\n"
      ],
      "metadata": {
        "colab": {
          "base_uri": "https://localhost:8080/",
          "height": 389
        },
        "collapsed": true,
        "id": "Q005RV5zOFZ_",
        "outputId": "d5d01696-bfdb-4bc1-d2f5-6763b2f9416c"
      },
      "execution_count": null,
      "outputs": [
        {
          "output_type": "error",
          "ename": "KeyError",
          "evalue": "'gender'",
          "traceback": [
            "\u001b[0;31m---------------------------------------------------------------------------\u001b[0m",
            "\u001b[0;31mKeyError\u001b[0m                                  Traceback (most recent call last)",
            "\u001b[0;32m<ipython-input-46-b4dec3e6f2dc>\u001b[0m in \u001b[0;36m<cell line: 2>\u001b[0;34m()\u001b[0m\n\u001b[1;32m      1\u001b[0m \u001b[0;31m# Assuming 'gender' and 'aging_issues' are columns in X\u001b[0m\u001b[0;34m\u001b[0m\u001b[0;34m\u001b[0m\u001b[0m\n\u001b[0;32m----> 2\u001b[0;31m \u001b[0mgender_aging_issues\u001b[0m \u001b[0;34m=\u001b[0m \u001b[0mX\u001b[0m\u001b[0;34m.\u001b[0m\u001b[0mgroupby\u001b[0m\u001b[0;34m(\u001b[0m\u001b[0;34m'gender'\u001b[0m\u001b[0;34m)\u001b[0m\u001b[0;34m[\u001b[0m\u001b[0;34m'aging_issues'\u001b[0m\u001b[0;34m]\u001b[0m\u001b[0;34m.\u001b[0m\u001b[0msum\u001b[0m\u001b[0;34m(\u001b[0m\u001b[0;34m)\u001b[0m\u001b[0;34m\u001b[0m\u001b[0;34m\u001b[0m\u001b[0m\n\u001b[0m\u001b[1;32m      3\u001b[0m \u001b[0mmost_aging_gender\u001b[0m \u001b[0;34m=\u001b[0m \u001b[0mgender_aging_issues\u001b[0m\u001b[0;34m.\u001b[0m\u001b[0midxmax\u001b[0m\u001b[0;34m(\u001b[0m\u001b[0;34m)\u001b[0m\u001b[0;34m\u001b[0m\u001b[0;34m\u001b[0m\u001b[0m\n\u001b[1;32m      4\u001b[0m \u001b[0mleast_aging_gender\u001b[0m \u001b[0;34m=\u001b[0m \u001b[0mgender_aging_issues\u001b[0m\u001b[0;34m.\u001b[0m\u001b[0midxmin\u001b[0m\u001b[0;34m(\u001b[0m\u001b[0;34m)\u001b[0m\u001b[0;34m\u001b[0m\u001b[0;34m\u001b[0m\u001b[0m\n\u001b[1;32m      5\u001b[0m \u001b[0;34m\u001b[0m\u001b[0m\n",
            "\u001b[0;32m/usr/local/lib/python3.10/dist-packages/pandas/core/frame.py\u001b[0m in \u001b[0;36mgroupby\u001b[0;34m(self, by, axis, level, as_index, sort, group_keys, observed, dropna)\u001b[0m\n\u001b[1;32m   9181\u001b[0m             \u001b[0;32mraise\u001b[0m \u001b[0mTypeError\u001b[0m\u001b[0;34m(\u001b[0m\u001b[0;34m\"You have to supply one of 'by' and 'level'\"\u001b[0m\u001b[0;34m)\u001b[0m\u001b[0;34m\u001b[0m\u001b[0;34m\u001b[0m\u001b[0m\n\u001b[1;32m   9182\u001b[0m \u001b[0;34m\u001b[0m\u001b[0m\n\u001b[0;32m-> 9183\u001b[0;31m         return DataFrameGroupBy(\n\u001b[0m\u001b[1;32m   9184\u001b[0m             \u001b[0mobj\u001b[0m\u001b[0;34m=\u001b[0m\u001b[0mself\u001b[0m\u001b[0;34m,\u001b[0m\u001b[0;34m\u001b[0m\u001b[0;34m\u001b[0m\u001b[0m\n\u001b[1;32m   9185\u001b[0m             \u001b[0mkeys\u001b[0m\u001b[0;34m=\u001b[0m\u001b[0mby\u001b[0m\u001b[0;34m,\u001b[0m\u001b[0;34m\u001b[0m\u001b[0;34m\u001b[0m\u001b[0m\n",
            "\u001b[0;32m/usr/local/lib/python3.10/dist-packages/pandas/core/groupby/groupby.py\u001b[0m in \u001b[0;36m__init__\u001b[0;34m(self, obj, keys, axis, level, grouper, exclusions, selection, as_index, sort, group_keys, observed, dropna)\u001b[0m\n\u001b[1;32m   1327\u001b[0m \u001b[0;34m\u001b[0m\u001b[0m\n\u001b[1;32m   1328\u001b[0m         \u001b[0;32mif\u001b[0m \u001b[0mgrouper\u001b[0m \u001b[0;32mis\u001b[0m \u001b[0;32mNone\u001b[0m\u001b[0;34m:\u001b[0m\u001b[0;34m\u001b[0m\u001b[0;34m\u001b[0m\u001b[0m\n\u001b[0;32m-> 1329\u001b[0;31m             grouper, exclusions, obj = get_grouper(\n\u001b[0m\u001b[1;32m   1330\u001b[0m                 \u001b[0mobj\u001b[0m\u001b[0;34m,\u001b[0m\u001b[0;34m\u001b[0m\u001b[0;34m\u001b[0m\u001b[0m\n\u001b[1;32m   1331\u001b[0m                 \u001b[0mkeys\u001b[0m\u001b[0;34m,\u001b[0m\u001b[0;34m\u001b[0m\u001b[0;34m\u001b[0m\u001b[0m\n",
            "\u001b[0;32m/usr/local/lib/python3.10/dist-packages/pandas/core/groupby/grouper.py\u001b[0m in \u001b[0;36mget_grouper\u001b[0;34m(obj, key, axis, level, sort, observed, validate, dropna)\u001b[0m\n\u001b[1;32m   1041\u001b[0m                 \u001b[0min_axis\u001b[0m\u001b[0;34m,\u001b[0m \u001b[0mlevel\u001b[0m\u001b[0;34m,\u001b[0m \u001b[0mgpr\u001b[0m \u001b[0;34m=\u001b[0m \u001b[0;32mFalse\u001b[0m\u001b[0;34m,\u001b[0m \u001b[0mgpr\u001b[0m\u001b[0;34m,\u001b[0m \u001b[0;32mNone\u001b[0m\u001b[0;34m\u001b[0m\u001b[0;34m\u001b[0m\u001b[0m\n\u001b[1;32m   1042\u001b[0m             \u001b[0;32melse\u001b[0m\u001b[0;34m:\u001b[0m\u001b[0;34m\u001b[0m\u001b[0;34m\u001b[0m\u001b[0m\n\u001b[0;32m-> 1043\u001b[0;31m                 \u001b[0;32mraise\u001b[0m \u001b[0mKeyError\u001b[0m\u001b[0;34m(\u001b[0m\u001b[0mgpr\u001b[0m\u001b[0;34m)\u001b[0m\u001b[0;34m\u001b[0m\u001b[0;34m\u001b[0m\u001b[0m\n\u001b[0m\u001b[1;32m   1044\u001b[0m         \u001b[0;32melif\u001b[0m \u001b[0misinstance\u001b[0m\u001b[0;34m(\u001b[0m\u001b[0mgpr\u001b[0m\u001b[0;34m,\u001b[0m \u001b[0mGrouper\u001b[0m\u001b[0;34m)\u001b[0m \u001b[0;32mand\u001b[0m \u001b[0mgpr\u001b[0m\u001b[0;34m.\u001b[0m\u001b[0mkey\u001b[0m \u001b[0;32mis\u001b[0m \u001b[0;32mnot\u001b[0m \u001b[0;32mNone\u001b[0m\u001b[0;34m:\u001b[0m\u001b[0;34m\u001b[0m\u001b[0;34m\u001b[0m\u001b[0m\n\u001b[1;32m   1045\u001b[0m             \u001b[0;31m# Add key to exclusions\u001b[0m\u001b[0;34m\u001b[0m\u001b[0;34m\u001b[0m\u001b[0m\n",
            "\u001b[0;31mKeyError\u001b[0m: 'gender'"
          ]
        }
      ]
    },
    {
      "cell_type": "code",
      "source": [
        "# Assuming 'category' and 'number_of_doctor_visits' are columns\n",
        "category_doctor_visits = X.groupby('category')['number_of_doctor_visits'].sum()\n",
        "top_category = category_doctor_visits.idxmax()\n",
        "print(f\"Category with the most doctor visits: {top_category}\")\n"
      ],
      "metadata": {
        "id": "GdTBoIn7OGhH"
      },
      "execution_count": null,
      "outputs": []
    },
    {
      "cell_type": "code",
      "source": [
        "import pickle\n",
        "\n",
        "answers = {\n",
        "    \"top_5_reasons\": top_5_reasons.to_string(),\n",
        "    \"top_community\": top_community.to_string(),\n",
        "    \"most_aging_gender\": most_aging_gender,\n",
        "    \"least_aging_gender\": least_aging_gender,\n",
        "    \"correlation_matrix\": correlation_matrix.to_string(),\n",
        "    \"top_category\": top_category\n",
        "}\n",
        "\n",
        "# Save the answers in a pickle file\n",
        "with open('answers.pkl', 'wb') as f:\n",
        "    pickle.dump(answers, f)\n",
        "\n",
        "print(\"Answers have been stored successfully.\")\n"
      ],
      "metadata": {
        "colab": {
          "base_uri": "https://localhost:8080/",
          "height": 219
        },
        "collapsed": true,
        "id": "rnSfzuXqOKA_",
        "outputId": "ee811008-f229-43f2-b340-d4123bd4c9c4"
      },
      "execution_count": null,
      "outputs": [
        {
          "output_type": "error",
          "ename": "NameError",
          "evalue": "name 'top_5_reasons' is not defined",
          "traceback": [
            "\u001b[0;31m---------------------------------------------------------------------------\u001b[0m",
            "\u001b[0;31mNameError\u001b[0m                                 Traceback (most recent call last)",
            "\u001b[0;32m<ipython-input-47-bf365bb2b2f6>\u001b[0m in \u001b[0;36m<cell line: 4>\u001b[0;34m()\u001b[0m\n\u001b[1;32m      2\u001b[0m \u001b[0;34m\u001b[0m\u001b[0m\n\u001b[1;32m      3\u001b[0m answers = {\n\u001b[0;32m----> 4\u001b[0;31m     \u001b[0;34m\"top_5_reasons\"\u001b[0m\u001b[0;34m:\u001b[0m \u001b[0mtop_5_reasons\u001b[0m\u001b[0;34m.\u001b[0m\u001b[0mto_string\u001b[0m\u001b[0;34m(\u001b[0m\u001b[0;34m)\u001b[0m\u001b[0;34m,\u001b[0m\u001b[0;34m\u001b[0m\u001b[0;34m\u001b[0m\u001b[0m\n\u001b[0m\u001b[1;32m      5\u001b[0m     \u001b[0;34m\"top_community\"\u001b[0m\u001b[0;34m:\u001b[0m \u001b[0mtop_community\u001b[0m\u001b[0;34m.\u001b[0m\u001b[0mto_string\u001b[0m\u001b[0;34m(\u001b[0m\u001b[0;34m)\u001b[0m\u001b[0;34m,\u001b[0m\u001b[0;34m\u001b[0m\u001b[0;34m\u001b[0m\u001b[0m\n\u001b[1;32m      6\u001b[0m     \u001b[0;34m\"most_aging_gender\"\u001b[0m\u001b[0;34m:\u001b[0m \u001b[0mmost_aging_gender\u001b[0m\u001b[0;34m,\u001b[0m\u001b[0;34m\u001b[0m\u001b[0;34m\u001b[0m\u001b[0m\n",
            "\u001b[0;31mNameError\u001b[0m: name 'top_5_reasons' is not defined"
          ]
        }
      ]
    },
    {
      "cell_type": "code",
      "source": [
        "import aiml\n",
        "import os\n",
        "\n",
        "# Create a Kernel object\n",
        "kernel = aiml.Kernel()\n",
        "\n",
        "# Load the AIML file\n",
        "aiml_file = \"bot.aiml\"\n",
        "if os.path.exists(aiml_file):\n",
        "    kernel.learn(aiml_file)\n",
        "\n",
        "# Start the chatbot\n",
        "print(\"Hello! Ask me about health aging issues.\")\n",
        "while True:\n",
        "    user_input = input(\"You: \")\n",
        "    if user_input.lower() == \"exit\":\n",
        "        print(\"Goodbye!\")\n",
        "        break\n",
        "    response = kernel.respond(user_input)\n",
        "    print(\"Bot:\", response)\n"
      ],
      "metadata": {
        "id": "IjdAHFJ6OWCP"
      },
      "execution_count": null,
      "outputs": []
    }
  ]
}